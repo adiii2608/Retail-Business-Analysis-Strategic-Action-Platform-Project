{
 "cells": [
  {
   "cell_type": "code",
   "execution_count": 3,
   "id": "2db253f5",
   "metadata": {},
   "outputs": [
    {
     "name": "stdout",
     "output_type": "stream",
     "text": [
      "\n",
      "🛍 Last purchased: CAMOUFLAGE EAR MUFF HEADPHONES\n",
      "🎯 Recommended Products:\n",
      "➡️ GOLD EAR MUFF HEADPHONES\n",
      "➡️  STAR  T-LIGHT HOLDER \n",
      "➡️ CHERRY BLOSSOM PHOTO FRAME \n",
      "➡️ BLUE PUDDING SPOON\n",
      "➡️ WHITE SCANDINAVIAN HEART CHRISTMAS\n"
     ]
    }
   ],
   "source": [
    "import pandas as pd\n",
    "from sklearn.metrics.pairwise import cosine_similarity\n",
    "\n",
    "# Load the dataset\n",
    "df = pd.read_excel(r\"E:\\c drive\\amazon\\data\\online_retail\\online_retail_II.xlsx\")\n",
    "df = df[(df['Quantity'] > 0) & (df['Price'] > 0)]\n",
    "df.dropna(subset=['Customer ID'], inplace=True)\n",
    "\n",
    "# Create TotalPrice and pivot table\n",
    "df['TotalPrice'] = df['Quantity'] * df['Price']\n",
    "pivot = df.pivot_table(index='Customer ID', columns='Description', values='TotalPrice', aggfunc='sum', fill_value=0)\n",
    "\n",
    "# Transpose for item-based similarity\n",
    "item_similarity = cosine_similarity(pivot.T)\n",
    "item_sim_df = pd.DataFrame(item_similarity, index=pivot.columns, columns=pivot.columns)\n",
    "\n",
    "# ✅ Function: Recommend similar products based on last purchased item\n",
    "def recommend_based_on_last_item(customer_id, top_n=5):\n",
    "    if customer_id not in df['Customer ID'].values:\n",
    "        print(f\"❌ Customer ID {customer_id} not found.\")\n",
    "        return\n",
    "\n",
    "    customer_orders = df[df['Customer ID'] == customer_id].sort_values('InvoiceDate')\n",
    "    \n",
    "    if customer_orders.empty:\n",
    "        print(f\"❌ No orders found for Customer ID {customer_id}.\")\n",
    "        return\n",
    "\n",
    "    last_item = customer_orders.iloc[-1]['Description']\n",
    "\n",
    "    if last_item not in item_sim_df.index:\n",
    "        print(f\"⚠️ Last item '{last_item}' not in similarity index. No recommendations available.\")\n",
    "        return\n",
    "\n",
    "    print(f\"\\n🛍 Last purchased: {last_item}\")\n",
    "    similar_items = item_sim_df[last_item].sort_values(ascending=False).drop(last_item).head(top_n)\n",
    "    \n",
    "    print(\"🎯 Recommended Products:\")\n",
    "    for item in similar_items.index:\n",
    "        print(f\"➡️ {item}\")\n",
    "\n",
    "# 🔍 Example usage\n",
    "recommend_based_on_last_item(12347.0)\n",
    "\n"
   ]
  },
  {
   "cell_type": "code",
   "execution_count": 4,
   "id": "a739c6c1",
   "metadata": {},
   "outputs": [
    {
     "name": "stdout",
     "output_type": "stream",
     "text": [
      "\n",
      "🛍 Last purchased: CAMOUFLAGE EAR MUFF HEADPHONES\n",
      "🎯 Recommended Products:\n",
      "➡️ GOLD EAR MUFF HEADPHONES\n",
      "➡️  STAR  T-LIGHT HOLDER \n",
      "➡️ CHERRY BLOSSOM PHOTO FRAME \n",
      "➡️ BLUE PUDDING SPOON\n",
      "➡️ WHITE SCANDINAVIAN HEART CHRISTMAS\n"
     ]
    }
   ],
   "source": [
    "cid = float(input(\"Enter Customer ID: \"))\n",
    "recommend_based_on_last_item(cid)\n"
   ]
  }
 ],
 "metadata": {
  "kernelspec": {
   "display_name": "Python 3",
   "language": "python",
   "name": "python3"
  },
  "language_info": {
   "codemirror_mode": {
    "name": "ipython",
    "version": 3
   },
   "file_extension": ".py",
   "mimetype": "text/x-python",
   "name": "python",
   "nbconvert_exporter": "python",
   "pygments_lexer": "ipython3",
   "version": "3.10.0"
  }
 },
 "nbformat": 4,
 "nbformat_minor": 5
}
