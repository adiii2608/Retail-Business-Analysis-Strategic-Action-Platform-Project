{
 "cells": [
  {
   "cell_type": "code",
   "execution_count": null,
   "id": "a11da226",
   "metadata": {},
   "outputs": [
    {
     "name": "stdout",
     "output_type": "stream",
     "text": [
      "If a customer buys: WHITE HANGING HEART T-LIGHT HOLDER\n",
      "Next likely product: RED HANGING HEART T-LIGHT HOLDER\n"
     ]
    }
   ],
   "source": [
    "# 📁 notebooks/6_next_product_prediction.ipynb\n",
    "\n",
    "import pandas as pd\n",
    "import numpy as np\n",
    "import matplotlib.pyplot as plt\n",
    "import networkx as nx\n",
    "from collections import defaultdict\n",
    "\n",
    "# Load the data\n",
    "path = r\"E:\\c drive\\amazon\\data\\online_retail\\online_retail_II.xlsx\"\n",
    "df = pd.read_excel(path, parse_dates=['InvoiceDate'])\n",
    "df = df[(df['Quantity'] > 0) & (df['Price'] > 0)]\n",
    "df.dropna(subset=['Customer ID'], inplace=True)\n",
    "df.sort_values(by=['Customer ID', 'InvoiceDate'], inplace=True)\n",
    "\n",
    "# 🔁 Generate product transition sequences per customer\n",
    "transitions = []\n",
    "for _, group in df.groupby('Customer ID'):\n",
    "    sequence = group.sort_values('InvoiceDate')['Description'].tolist()\n",
    "    for i in range(len(sequence)-1):\n",
    "        transitions.append((sequence[i], sequence[i+1]))\n",
    "\n",
    "# 🔢 Count transitions\n",
    "transition_matrix = defaultdict(int)\n",
    "for pair in transitions:\n",
    "    transition_matrix[pair] += 1\n",
    "\n",
    "# 📊 Convert to DataFrame\n",
    "trans_df = pd.DataFrame([{'From': k[0], 'To': k[1], 'Count': v} for k, v in transition_matrix.items()])\n",
    "\n",
    "# 📈 Predict next item given current item\n",
    "next_item = {}\n",
    "for current_item in trans_df['From'].unique():\n",
    "    options = trans_df[trans_df['From'] == current_item].sort_values('Count', ascending=False)\n",
    "    if not options.empty:\n",
    "        next_item[current_item] = options.iloc[0]['To']\n",
    "\n",
    "# 🔍 Function to recommend next likely item\n",
    "\n",
    "def predict_next_item(current):\n",
    "    if current in next_item:\n",
    "        return next_item[current]\n",
    "    else:\n",
    "        return \"No strong transition found\"\n",
    "\n",
    "# 🧪 Test: Predict next likely item\n",
    "example_item = df['Description'].value_counts().idxmax()\n",
    "print(f\"If a customer buys: {example_item}\")\n",
    "print(f\"Next likely product: {predict_next_item(example_item)}\")\n",
    "\n",
    "# 🔁 Save transition DataFrame\n",
    "trans_df.to_csv(\"product_transitions.csv\", index=False)\n",
    "\n",
    "\n",
    "\n"
   ]
  },
  {
   "cell_type": "code",
   "execution_count": 3,
   "id": "f3532d51",
   "metadata": {},
   "outputs": [
    {
     "name": "stdout",
     "output_type": "stream",
     "text": [
      "➡️ Next likely product: HOT WATER BOTTLE TEA AND SYMPATHY\n"
     ]
    }
   ],
   "source": [
    "# 🔁 Interactive: Ask user to enter a product name\n",
    "while True:\n",
    "    current = input(\"\\nEnter current product name (or type 'exit' to quit): \").strip()\n",
    "    if current.lower() == 'exit':\n",
    "        break\n",
    "    result = predict_next_item(current)\n",
    "    print(f\"➡️ Next likely product: {result}\")\n"
   ]
  }
 ],
 "metadata": {
  "kernelspec": {
   "display_name": "Python 3",
   "language": "python",
   "name": "python3"
  },
  "language_info": {
   "codemirror_mode": {
    "name": "ipython",
    "version": 3
   },
   "file_extension": ".py",
   "mimetype": "text/x-python",
   "name": "python",
   "nbconvert_exporter": "python",
   "pygments_lexer": "ipython3",
   "version": "3.10.0"
  }
 },
 "nbformat": 4,
 "nbformat_minor": 5
}
