{
 "cells": [
  {
   "cell_type": "code",
   "execution_count": 1,
   "id": "ecef37f5",
   "metadata": {},
   "outputs": [
    {
     "name": "stdout",
     "output_type": "stream",
     "text": [
      "📤 messaging_schedule.csv created. Use this for campaign scheduling!\n"
     ]
    }
   ],
   "source": [
    "# 📬 8. Messaging Schedule Based on Behavior + Risk\n",
    "\n",
    "import pandas as pd\n",
    "import datetime as dt\n",
    "\n",
    "# Load processed customer data\n",
    "cltv = pd.read_csv('cltv_with_churn_risk.csv')\n",
    "\n",
    "# Define weekday & hour features (assumes we already extracted them earlier)\n",
    "df = pd.read_excel(r'E:\\c drive\\amazon\\data\\online_retail\\online_retail_II.xlsx', parse_dates=['InvoiceDate'])\n",
    "df = df[(df['Quantity'] > 0) & (df['Price'] > 0)]\n",
    "df.dropna(subset=['Customer ID'], inplace=True)\n",
    "\n",
    "# Extract hour and weekday\n",
    "purchase_times = df.copy()\n",
    "purchase_times['Hour'] = df['InvoiceDate'].dt.hour\n",
    "purchase_times['Weekday'] = df['InvoiceDate'].dt.weekday\n",
    "\n",
    "# Determine peak hour and weekday for each customer\n",
    "peak_times = purchase_times.groupby('Customer ID').agg({\n",
    "    'Hour': lambda x: x.value_counts().idxmax(),\n",
    "    'Weekday': lambda x: x.value_counts().idxmax()\n",
    "}).reset_index()\n",
    "\n",
    "peak_times.columns = ['Customer_ID', 'Preferred_Hour', 'Preferred_Weekday']\n",
    "\n",
    "# 🧠 Merge with CLTV risk model\n",
    "cltv_schedule = cltv.merge(peak_times, on='Customer_ID', how='left')\n",
    "\n",
    "# ✅ Export schedule\n",
    "cltv_schedule.to_csv('messaging_schedule.csv', index=False)\n",
    "\n",
    "print(\"📤 messaging_schedule.csv created. Use this for campaign scheduling!\")\n"
   ]
  }
 ],
 "metadata": {
  "kernelspec": {
   "display_name": "Python 3",
   "language": "python",
   "name": "python3"
  },
  "language_info": {
   "codemirror_mode": {
    "name": "ipython",
    "version": 3
   },
   "file_extension": ".py",
   "mimetype": "text/x-python",
   "name": "python",
   "nbconvert_exporter": "python",
   "pygments_lexer": "ipython3",
   "version": "3.10.0"
  }
 },
 "nbformat": 4,
 "nbformat_minor": 5
}
