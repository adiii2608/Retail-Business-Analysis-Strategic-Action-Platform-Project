{
 "cells": [
  {
   "cell_type": "code",
   "execution_count": 1,
   "id": "2e2d7d19",
   "metadata": {},
   "outputs": [
    {
     "name": "stdout",
     "output_type": "stream",
     "text": [
      "✅ CLTV model saved to 'models/cltv_model.pkl'\n",
      "📁 Saved: cltv_with_predictions.csv\n"
     ]
    }
   ],
   "source": [
    "# 📦 Import Libraries\n",
    "import pandas as pd\n",
    "import numpy as np\n",
    "from sklearn.linear_model import LinearRegression\n",
    "from sklearn.model_selection import train_test_split\n",
    "import joblib\n",
    "import os\n",
    "\n",
    "# 📌 Load Your Processed CLTV Data\n",
    "# Make sure your DataFrame has these columns:\n",
    "# ['Customer_ID', 'Frequency', 'Recency', 'Monetary', 'AOV', 'PF', 'ProfitMargin', 'CLTV']\n",
    "cltv = pd.read_csv('cltv_dataset.csv')\n",
    "\n",
    "# 🧼 Drop any rows with missing values (optional safety)\n",
    "cltv.dropna(subset=['Frequency', 'Recency', 'Monetary', 'AOV', 'PF', 'ProfitMargin', 'CLTV'], inplace=True)\n",
    "\n",
    "# 🎯 Define Features and Target\n",
    "X = cltv[['Frequency', 'Recency', 'Monetary', 'AOV', 'PF', 'ProfitMargin']]\n",
    "y = cltv['CLTV']\n",
    "\n",
    "# 🔀 Train/Test Split\n",
    "X_train, X_test, y_train, y_test = train_test_split(X, y, test_size=0.2, random_state=42)\n",
    "\n",
    "# 🤖 Train Model\n",
    "model = LinearRegression()\n",
    "model.fit(X_train, y_train)\n",
    "\n",
    "# ✅ Save the Model\n",
    "os.makedirs('models', exist_ok=True)\n",
    "joblib.dump(model, 'models/cltv_model.pkl')\n",
    "print(\"✅ CLTV model saved to 'models/cltv_model.pkl'\")\n",
    "\n",
    "# (Optional) Predict CLTV and Add to DataFrame\n",
    "cltv['Predicted_CLTV'] = model.predict(X)\n",
    "\n",
    "# (Optional) Save Predicted Results\n",
    "cltv.to_csv('cltv_with_predictions.csv', index=False)\n",
    "print(\"📁 Saved: cltv_with_predictions.csv\")\n"
   ]
  }
 ],
 "metadata": {
  "kernelspec": {
   "display_name": "Python 3",
   "language": "python",
   "name": "python3"
  },
  "language_info": {
   "codemirror_mode": {
    "name": "ipython",
    "version": 3
   },
   "file_extension": ".py",
   "mimetype": "text/x-python",
   "name": "python",
   "nbconvert_exporter": "python",
   "pygments_lexer": "ipython3",
   "version": "3.10.0"
  }
 },
 "nbformat": 4,
 "nbformat_minor": 5
}
