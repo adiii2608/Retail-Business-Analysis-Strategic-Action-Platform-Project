{
 "cells": [
  {
   "cell_type": "code",
   "execution_count": 2,
   "id": "62a4daa5",
   "metadata": {},
   "outputs": [
    {
     "name": "stdout",
     "output_type": "stream",
     "text": [
      "Saved: promotion_hourly_triggers.csv\n",
      "  CLTV_Segment_Label  Hour  Total_Orders  Total_Revenue Trigger_Class\n",
      "0                  A     7            31       1344.840     COLD_HOUR\n",
      "1                  A     8           182      10952.250     COLD_HOUR\n",
      "2                  A     9           505      33605.220     WARM_HOUR\n",
      "3                  A    10           900      54116.012     WARM_HOUR\n",
      "4                  A    11           966      74449.311      HOT_HOUR\n"
     ]
    },
    {
     "name": "stderr",
     "output_type": "stream",
     "text": [
      "C:\\Users\\Aditya\\AppData\\Local\\Temp\\ipykernel_8424\\4282645104.py:47: FutureWarning: DataFrameGroupBy.apply operated on the grouping columns. This behavior is deprecated, and in a future version of pandas the grouping columns will be excluded from the operation. Either pass `include_groups=False` to exclude the groupings or explicitly select the grouping columns after groupby to silence this warning.\n",
      "  hourly = hourly.groupby('CLTV_Segment_Label').apply(classify_triggers).reset_index(drop=True)\n"
     ]
    }
   ],
   "source": [
    "import pandas as pd\n",
    "import numpy as np\n",
    "\n",
    "# Files\n",
    "RAW_FILE = r\"E:\\c drive\\amazon\\data\\online_retail\\online_retail_II.xlsx\"\n",
    "CLTV_FILE = r\"E:\\c drive\\amazon\\notebooks\\cltv_with_predictions.csv\"\n",
    "OUT_FILE = \"promotion_hourly_triggers.csv\"\n",
    "\n",
    "# ---- Load Data ----\n",
    "raw = pd.read_excel(RAW_FILE, parse_dates=['InvoiceDate'])\n",
    "raw = raw[raw['Quantity'] > 0]\n",
    "raw = raw.dropna(subset=['Customer ID'])\n",
    "raw.rename(columns={'Customer ID': 'Customer_ID'}, inplace=True)\n",
    "\n",
    "cltv = pd.read_csv(CLTV_FILE)\n",
    "cltv.columns = cltv.columns.str.replace(' ', '_')\n",
    "\n",
    "# Merge CLTV segment into raw data\n",
    "df = raw.merge(cltv[['Customer_ID', 'CLTV_Segment']], on='Customer_ID', how='left')\n",
    "df.rename(columns={'CLTV_Segment': 'CLTV_Segment_Label'}, inplace=True)\n",
    "\n",
    "\n",
    "df['Hour'] = df['InvoiceDate'].dt.hour\n",
    "\n",
    "# ---- Aggregate ----\n",
    "hourly = (\n",
    "    df.groupby(['CLTV_Segment_Label', 'Hour'])\n",
    "      .agg(Total_Orders=('Invoice', 'nunique'),\n",
    "           Total_Revenue=('Price', 'sum'))\n",
    "      .reset_index()\n",
    ")\n",
    "\n",
    "# ---- Trigger Class ----\n",
    "def classify_triggers(segment_df):\n",
    "    # Determine 80th percentile for HOT\n",
    "    threshold_hot = np.percentile(segment_df['Total_Orders'], 80)\n",
    "    threshold_warm = np.percentile(segment_df['Total_Orders'], 50)\n",
    "    def trigger(x):\n",
    "        if x >= threshold_hot:\n",
    "            return \"HOT_HOUR\"\n",
    "        elif x >= threshold_warm:\n",
    "            return \"WARM_HOUR\"\n",
    "        return \"COLD_HOUR\"\n",
    "    segment_df['Trigger_Class'] = segment_df['Total_Orders'].apply(trigger)\n",
    "    return segment_df\n",
    "\n",
    "hourly = hourly.groupby('CLTV_Segment_Label').apply(classify_triggers).reset_index(drop=True)\n",
    "\n",
    "hourly.to_csv(OUT_FILE, index=False)\n",
    "print(\"Saved:\", OUT_FILE)\n",
    "print(hourly.head())\n"
   ]
  }
 ],
 "metadata": {
  "kernelspec": {
   "display_name": "Python 3",
   "language": "python",
   "name": "python3"
  },
  "language_info": {
   "codemirror_mode": {
    "name": "ipython",
    "version": 3
   },
   "file_extension": ".py",
   "mimetype": "text/x-python",
   "name": "python",
   "nbconvert_exporter": "python",
   "pygments_lexer": "ipython3",
   "version": "3.10.0"
  }
 },
 "nbformat": 4,
 "nbformat_minor": 5
}
