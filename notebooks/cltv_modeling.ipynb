{
 "cells": [
  {
   "cell_type": "code",
   "execution_count": 11,
   "id": "478c0565",
   "metadata": {},
   "outputs": [],
   "source": [
    "import pandas as pd\n",
    "import numpy as np\n",
    "\n",
    "# Load data\n",
    "df = pd.read_excel(r'E:\\c drive\\amazon\\data\\online_retail\\online_retail_II.xlsx', parse_dates=['InvoiceDate'])\n",
    "\n",
    "# Clean and prepare\n",
    "df.dropna(inplace=True)\n",
    "df = df[df['Quantity'] > 0]\n",
    "df = df[df['Price'] > 0]\n",
    "df = df.dropna(subset=['Customer ID'])\n",
    "\n",
    "# Optional: standardize column names\n",
    "df.columns = df.columns.str.strip().str.replace(' ', '_')\n",
    "\n",
    "# Create TotalPrice\n",
    "df['TotalPrice'] = df['Quantity'] * df['Price']\n"
   ]
  },
  {
   "cell_type": "code",
   "execution_count": 12,
   "id": "5742af4e",
   "metadata": {},
   "outputs": [],
   "source": [
    "df.columns = df.columns.str.strip().str.replace(' ', '_')\n"
   ]
  },
  {
   "cell_type": "code",
   "execution_count": 13,
   "id": "aedacd3e",
   "metadata": {},
   "outputs": [],
   "source": [
    "import pandas as pd\n",
    "import numpy as np\n",
    "from datetime import datetime\n"
   ]
  },
  {
   "cell_type": "code",
   "execution_count": 14,
   "id": "15f8550f",
   "metadata": {},
   "outputs": [],
   "source": [
    "df = df[df['Quantity'] > 0]\n",
    "df = df[df['Price'] > 0]\n",
    "df['TotalPrice'] = df['Quantity'] * df['Price']\n",
    "df = df.dropna(subset=['Customer_ID'])\n",
    "df['InvoiceDate'] = pd.to_datetime(df['InvoiceDate'])\n"
   ]
  },
  {
   "cell_type": "code",
   "execution_count": 15,
   "id": "b4412a0c",
   "metadata": {},
   "outputs": [],
   "source": [
    "# Group by customer\n",
    "cltv = df.groupby('Customer_ID').agg({\n",
    "    'Invoice': 'nunique',                      # Frequency\n",
    "    'InvoiceDate': lambda x: (x.max() - x.min()).days,  # Recency (period)\n",
    "    'TotalPrice': 'sum'                        # Monetary value\n",
    "}).reset_index()\n",
    "\n",
    "cltv.columns = ['Customer_ID', 'Frequency', 'Recency', 'Monetary']\n"
   ]
  },
  {
   "cell_type": "code",
   "execution_count": 16,
   "id": "ca71a377",
   "metadata": {},
   "outputs": [],
   "source": [
    "# Average Order Value\n",
    "cltv['AOV'] = cltv['Monetary'] / cltv['Frequency']\n",
    "\n",
    "# Purchase Frequency\n",
    "cltv['PF'] = cltv['Frequency'] / cltv['Recency']\n",
    "\n",
    "# Profit Margin Assumption\n",
    "cltv['ProfitMargin'] = 0.10  # assume 10% profit margin\n",
    "\n",
    "# CLTV = AOV * PF * Customer Lifetime * Profit Margin\n",
    "cltv['CLTV'] = cltv['AOV'] * cltv['PF'] * 365 * cltv['ProfitMargin']\n"
   ]
  },
  {
   "cell_type": "code",
   "execution_count": 17,
   "id": "d54f1e64",
   "metadata": {},
   "outputs": [],
   "source": [
    "# Drop NaNs from CLTV column\n",
    "cltv = cltv.replace([np.inf, -np.inf], np.nan)\n",
    "cltv = cltv.dropna(subset=['CLTV'])\n",
    "\n",
    "# Use qcut with retbins=True to see how many bins are actually created\n",
    "cltv_bins, bin_edges = pd.qcut(cltv['CLTV'], q=4, labels=False, retbins=True, duplicates='drop')\n",
    "\n",
    "# Number of actual bins\n",
    "n_bins = len(bin_edges) - 1\n",
    "\n",
    "# Generate labels accordingly (e.g., ['C', 'B', 'A'] for 3 bins)\n",
    "labels = list('DCBA')[-n_bins:]\n",
    "\n",
    "# Apply qcut again with correct labels\n",
    "cltv['CLTV_Segment'] = pd.qcut(cltv['CLTV'], q=n_bins, labels=labels, duplicates='drop')\n"
   ]
  },
  {
   "cell_type": "code",
   "execution_count": 18,
   "id": "aad1e2ca",
   "metadata": {},
   "outputs": [
    {
     "name": "stdout",
     "output_type": "stream",
     "text": [
      "              count         min           max         mean\n",
      "CLTV_Segment                                              \n",
      "D               704    5.011508    156.734788    97.949600\n",
      "C               704  156.980812    290.943134   217.151310\n",
      "B               703  291.748354    568.985464   409.970081\n",
      "A               704  569.007572  48284.755000  2035.967778\n"
     ]
    },
    {
     "name": "stderr",
     "output_type": "stream",
     "text": [
      "C:\\Users\\Aditya\\AppData\\Local\\Temp\\ipykernel_23012\\2602257599.py:1: FutureWarning: The default of observed=False is deprecated and will be changed to True in a future version of pandas. Pass observed=False to retain current behavior or observed=True to adopt the future default and silence this warning.\n",
      "  print(cltv.groupby('CLTV_Segment')['CLTV'].agg(['count', 'min', 'max', 'mean']))\n"
     ]
    }
   ],
   "source": [
    "print(cltv.groupby('CLTV_Segment')['CLTV'].agg(['count', 'min', 'max', 'mean']))\n"
   ]
  },
  {
   "cell_type": "code",
   "execution_count": 19,
   "id": "24600286",
   "metadata": {},
   "outputs": [
    {
     "name": "stdout",
     "output_type": "stream",
     "text": [
      "   Customer_ID  Frequency  Recency  Monetary          AOV        PF  \\\n",
      "0      12346.0         11      196    372.86    33.896364  0.056122   \n",
      "1      12347.0          2       37   1323.32   661.660000  0.054054   \n",
      "3      12349.0          3      181   2671.14   890.380000  0.016575   \n",
      "5      12352.0          2       16    343.80   171.900000  0.125000   \n",
      "8      12356.0          3       44   3562.25  1187.416667  0.068182   \n",
      "\n",
      "   ProfitMargin         CLTV CLTV_Segment  \n",
      "0           0.1    69.435663            D  \n",
      "1           0.1  1305.437297            A  \n",
      "3           0.1   538.655304            B  \n",
      "5           0.1   784.293750            A  \n",
      "8           0.1  2955.048295            A  \n"
     ]
    }
   ],
   "source": [
    "print(cltv.head())"
   ]
  },
  {
   "cell_type": "code",
   "execution_count": 20,
   "id": "a0078591",
   "metadata": {},
   "outputs": [],
   "source": [
    "cltv.to_csv('cltv_dataset.csv', index=False)\n"
   ]
  }
 ],
 "metadata": {
  "kernelspec": {
   "display_name": "Python 3",
   "language": "python",
   "name": "python3"
  },
  "language_info": {
   "codemirror_mode": {
    "name": "ipython",
    "version": 3
   },
   "file_extension": ".py",
   "mimetype": "text/x-python",
   "name": "python",
   "nbconvert_exporter": "python",
   "pygments_lexer": "ipython3",
   "version": "3.10.0"
  }
 },
 "nbformat": 4,
 "nbformat_minor": 5
}
